{
  "nbformat": 4,
  "nbformat_minor": 0,
  "metadata": {
    "colab": {
      "name": "Movie Recomendation System.ipynb",
      "provenance": []
    },
    "kernelspec": {
      "name": "python3",
      "display_name": "Python 3"
    },
    "language_info": {
      "name": "python"
    },
    "accelerator": "GPU",
    "widgets": {
      "application/vnd.jupyter.widget-state+json": {
        "a991dbea71fa477295395da3c21534f5": {
          "model_module": "@jupyter-widgets/controls",
          "model_name": "HBoxModel",
          "model_module_version": "1.5.0",
          "state": {
            "_view_name": "HBoxView",
            "_dom_classes": [],
            "_model_name": "HBoxModel",
            "_view_module": "@jupyter-widgets/controls",
            "_model_module_version": "1.5.0",
            "_view_count": null,
            "_view_module_version": "1.5.0",
            "box_style": "",
            "layout": "IPY_MODEL_640730df0a744be5afe2c0eab87a27c6",
            "_model_module": "@jupyter-widgets/controls",
            "children": [
              "IPY_MODEL_25e5dace329d4158b977419b9f49585d",
              "IPY_MODEL_903ce06d6b9b44c088195d5ff5b46a72",
              "IPY_MODEL_df86b104b5c84fa6b15431ba9a01cd62"
            ]
          }
        },
        "640730df0a744be5afe2c0eab87a27c6": {
          "model_module": "@jupyter-widgets/base",
          "model_name": "LayoutModel",
          "model_module_version": "1.2.0",
          "state": {
            "_view_name": "LayoutView",
            "grid_template_rows": null,
            "right": null,
            "justify_content": null,
            "_view_module": "@jupyter-widgets/base",
            "overflow": null,
            "_model_module_version": "1.2.0",
            "_view_count": null,
            "flex_flow": null,
            "width": null,
            "min_width": null,
            "border": null,
            "align_items": null,
            "bottom": null,
            "_model_module": "@jupyter-widgets/base",
            "top": null,
            "grid_column": null,
            "overflow_y": null,
            "overflow_x": null,
            "grid_auto_flow": null,
            "grid_area": null,
            "grid_template_columns": null,
            "flex": null,
            "_model_name": "LayoutModel",
            "justify_items": null,
            "grid_row": null,
            "max_height": null,
            "align_content": null,
            "visibility": null,
            "align_self": null,
            "height": null,
            "min_height": null,
            "padding": null,
            "grid_auto_rows": null,
            "grid_gap": null,
            "max_width": null,
            "order": null,
            "_view_module_version": "1.2.0",
            "grid_template_areas": null,
            "object_position": null,
            "object_fit": null,
            "grid_auto_columns": null,
            "margin": null,
            "display": null,
            "left": null
          }
        },
        "25e5dace329d4158b977419b9f49585d": {
          "model_module": "@jupyter-widgets/controls",
          "model_name": "HTMLModel",
          "model_module_version": "1.5.0",
          "state": {
            "_view_name": "HTMLView",
            "style": "IPY_MODEL_c34dfb6b74cc4ddf9fd5f3fcd7b5cc98",
            "_dom_classes": [],
            "description": "",
            "_model_name": "HTMLModel",
            "placeholder": "​",
            "_view_module": "@jupyter-widgets/controls",
            "_model_module_version": "1.5.0",
            "value": "100%",
            "_view_count": null,
            "_view_module_version": "1.5.0",
            "description_tooltip": null,
            "_model_module": "@jupyter-widgets/controls",
            "layout": "IPY_MODEL_16b21f0b399f4d39bfe553a91a6ccd2e"
          }
        },
        "903ce06d6b9b44c088195d5ff5b46a72": {
          "model_module": "@jupyter-widgets/controls",
          "model_name": "FloatProgressModel",
          "model_module_version": "1.5.0",
          "state": {
            "_view_name": "ProgressView",
            "style": "IPY_MODEL_09138f381ff84cb8b79fa878a9225387",
            "_dom_classes": [],
            "description": "",
            "_model_name": "FloatProgressModel",
            "bar_style": "success",
            "max": 128,
            "_view_module": "@jupyter-widgets/controls",
            "_model_module_version": "1.5.0",
            "value": 128,
            "_view_count": null,
            "_view_module_version": "1.5.0",
            "orientation": "horizontal",
            "min": 0,
            "description_tooltip": null,
            "_model_module": "@jupyter-widgets/controls",
            "layout": "IPY_MODEL_c2861108cbc04dbf8499d76ee44c3d5e"
          }
        },
        "df86b104b5c84fa6b15431ba9a01cd62": {
          "model_module": "@jupyter-widgets/controls",
          "model_name": "HTMLModel",
          "model_module_version": "1.5.0",
          "state": {
            "_view_name": "HTMLView",
            "style": "IPY_MODEL_7fb04f78cab54160a6ff57375d9792de",
            "_dom_classes": [],
            "description": "",
            "_model_name": "HTMLModel",
            "placeholder": "​",
            "_view_module": "@jupyter-widgets/controls",
            "_model_module_version": "1.5.0",
            "value": " 128/128 [03:30&lt;00:00,  1.62s/it]",
            "_view_count": null,
            "_view_module_version": "1.5.0",
            "description_tooltip": null,
            "_model_module": "@jupyter-widgets/controls",
            "layout": "IPY_MODEL_cbf114fc2f8f4210b7aa78893f8c41f3"
          }
        },
        "c34dfb6b74cc4ddf9fd5f3fcd7b5cc98": {
          "model_module": "@jupyter-widgets/controls",
          "model_name": "DescriptionStyleModel",
          "model_module_version": "1.5.0",
          "state": {
            "_view_name": "StyleView",
            "_model_name": "DescriptionStyleModel",
            "description_width": "",
            "_view_module": "@jupyter-widgets/base",
            "_model_module_version": "1.5.0",
            "_view_count": null,
            "_view_module_version": "1.2.0",
            "_model_module": "@jupyter-widgets/controls"
          }
        },
        "16b21f0b399f4d39bfe553a91a6ccd2e": {
          "model_module": "@jupyter-widgets/base",
          "model_name": "LayoutModel",
          "model_module_version": "1.2.0",
          "state": {
            "_view_name": "LayoutView",
            "grid_template_rows": null,
            "right": null,
            "justify_content": null,
            "_view_module": "@jupyter-widgets/base",
            "overflow": null,
            "_model_module_version": "1.2.0",
            "_view_count": null,
            "flex_flow": null,
            "width": null,
            "min_width": null,
            "border": null,
            "align_items": null,
            "bottom": null,
            "_model_module": "@jupyter-widgets/base",
            "top": null,
            "grid_column": null,
            "overflow_y": null,
            "overflow_x": null,
            "grid_auto_flow": null,
            "grid_area": null,
            "grid_template_columns": null,
            "flex": null,
            "_model_name": "LayoutModel",
            "justify_items": null,
            "grid_row": null,
            "max_height": null,
            "align_content": null,
            "visibility": null,
            "align_self": null,
            "height": null,
            "min_height": null,
            "padding": null,
            "grid_auto_rows": null,
            "grid_gap": null,
            "max_width": null,
            "order": null,
            "_view_module_version": "1.2.0",
            "grid_template_areas": null,
            "object_position": null,
            "object_fit": null,
            "grid_auto_columns": null,
            "margin": null,
            "display": null,
            "left": null
          }
        },
        "09138f381ff84cb8b79fa878a9225387": {
          "model_module": "@jupyter-widgets/controls",
          "model_name": "ProgressStyleModel",
          "model_module_version": "1.5.0",
          "state": {
            "_view_name": "StyleView",
            "_model_name": "ProgressStyleModel",
            "description_width": "",
            "_view_module": "@jupyter-widgets/base",
            "_model_module_version": "1.5.0",
            "_view_count": null,
            "_view_module_version": "1.2.0",
            "bar_color": null,
            "_model_module": "@jupyter-widgets/controls"
          }
        },
        "c2861108cbc04dbf8499d76ee44c3d5e": {
          "model_module": "@jupyter-widgets/base",
          "model_name": "LayoutModel",
          "model_module_version": "1.2.0",
          "state": {
            "_view_name": "LayoutView",
            "grid_template_rows": null,
            "right": null,
            "justify_content": null,
            "_view_module": "@jupyter-widgets/base",
            "overflow": null,
            "_model_module_version": "1.2.0",
            "_view_count": null,
            "flex_flow": null,
            "width": null,
            "min_width": null,
            "border": null,
            "align_items": null,
            "bottom": null,
            "_model_module": "@jupyter-widgets/base",
            "top": null,
            "grid_column": null,
            "overflow_y": null,
            "overflow_x": null,
            "grid_auto_flow": null,
            "grid_area": null,
            "grid_template_columns": null,
            "flex": null,
            "_model_name": "LayoutModel",
            "justify_items": null,
            "grid_row": null,
            "max_height": null,
            "align_content": null,
            "visibility": null,
            "align_self": null,
            "height": null,
            "min_height": null,
            "padding": null,
            "grid_auto_rows": null,
            "grid_gap": null,
            "max_width": null,
            "order": null,
            "_view_module_version": "1.2.0",
            "grid_template_areas": null,
            "object_position": null,
            "object_fit": null,
            "grid_auto_columns": null,
            "margin": null,
            "display": null,
            "left": null
          }
        },
        "7fb04f78cab54160a6ff57375d9792de": {
          "model_module": "@jupyter-widgets/controls",
          "model_name": "DescriptionStyleModel",
          "model_module_version": "1.5.0",
          "state": {
            "_view_name": "StyleView",
            "_model_name": "DescriptionStyleModel",
            "description_width": "",
            "_view_module": "@jupyter-widgets/base",
            "_model_module_version": "1.5.0",
            "_view_count": null,
            "_view_module_version": "1.2.0",
            "_model_module": "@jupyter-widgets/controls"
          }
        },
        "cbf114fc2f8f4210b7aa78893f8c41f3": {
          "model_module": "@jupyter-widgets/base",
          "model_name": "LayoutModel",
          "model_module_version": "1.2.0",
          "state": {
            "_view_name": "LayoutView",
            "grid_template_rows": null,
            "right": null,
            "justify_content": null,
            "_view_module": "@jupyter-widgets/base",
            "overflow": null,
            "_model_module_version": "1.2.0",
            "_view_count": null,
            "flex_flow": null,
            "width": null,
            "min_width": null,
            "border": null,
            "align_items": null,
            "bottom": null,
            "_model_module": "@jupyter-widgets/base",
            "top": null,
            "grid_column": null,
            "overflow_y": null,
            "overflow_x": null,
            "grid_auto_flow": null,
            "grid_area": null,
            "grid_template_columns": null,
            "flex": null,
            "_model_name": "LayoutModel",
            "justify_items": null,
            "grid_row": null,
            "max_height": null,
            "align_content": null,
            "visibility": null,
            "align_self": null,
            "height": null,
            "min_height": null,
            "padding": null,
            "grid_auto_rows": null,
            "grid_gap": null,
            "max_width": null,
            "order": null,
            "_view_module_version": "1.2.0",
            "grid_template_areas": null,
            "object_position": null,
            "object_fit": null,
            "grid_auto_columns": null,
            "margin": null,
            "display": null,
            "left": null
          }
        }
      }
    }
  },
  "cells": [
    {
      "cell_type": "markdown",
      "source": [
        "#**PROBLEM STATEMENT**\n",
        "\n"
      ],
      "metadata": {
        "id": "U2tHdr1l707I"
      }
    },
    {
      "cell_type": "markdown",
      "source": [
        ">Here we use the **KMeans clustering** ML algorithm for finding movie recomendation by using a set of data."
      ],
      "metadata": {
        "id": "7mAKELBr8UQW"
      }
    },
    {
      "cell_type": "markdown",
      "source": [
        "#**LOADING THE DATASET**"
      ],
      "metadata": {
        "id": "oErHky7D8Gc2"
      }
    },
    {
      "cell_type": "code",
      "execution_count": null,
      "metadata": {
        "colab": {
          "base_uri": "https://localhost:8080/"
        },
        "id": "SuJ7rOQosOA7",
        "outputId": "857944e8-8315-43bc-af9f-be73f62957e3"
      },
      "outputs": [
        {
          "output_type": "stream",
          "name": "stdout",
          "text": [
            "  % Total    % Received % Xferd  Average Speed   Time    Time     Time  Current\n",
            "                                 Dload  Upload   Total   Spent    Left  Speed\n",
            "\r  0     0    0     0    0     0      0      0 --:--:-- --:--:-- --:--:--     0\r100  955k  100  955k    0     0  3411k      0 --:--:-- --:--:-- --:--:-- 3411k\n"
          ]
        }
      ],
      "source": [
        "#In python, a curl is a tool for transferring data requests to and from a server using PycURL.\n",
        "#so using curl we are downloading a dataset.\n",
        "\n",
        "!curl http://files.grouplens.org/datasets/movielens/ml-latest-small.zip -o ml-latest-small.zip"
      ]
    },
    {
      "cell_type": "markdown",
      "source": [
        "#**Extracting the dataset into zip file format**"
      ],
      "metadata": {
        "id": "WvyNHCaf8dfz"
      }
    },
    {
      "cell_type": "code",
      "source": [
        "#ZIP is a common file format that's used to compress one or more files together into a single location.\n",
        "#we are importing zipfile to work with it\n",
        "#The import statement allows you to import one or more modules into your Python program\n",
        "#with statement in Python is used in exception handling to make the code cleaner and much more readable.\n",
        "#with statement in Python is used in exception handling to make the code cleaner and much more readable.\n",
        "import zipfile\n",
        "with zipfile.ZipFile('ml-latest-small.zip', 'r') as zip_ref:\n",
        "  zip_ref.extractall('data')\n",
        "#extractall() method will extract all the contents of the zip file to the current working directory. "
      ],
      "metadata": {
        "id": "_DO_Gdz5s7Qs"
      },
      "execution_count": null,
      "outputs": []
    },
    {
      "cell_type": "markdown",
      "source": [
        "#**Reading the dataset**"
      ],
      "metadata": {
        "id": "msiDRduF8uHX"
      }
    },
    {
      "cell_type": "code",
      "source": [
        "#pandas is an open source Python package that is most widely used for data science/data analysis and machine learning tasks.\n",
        "import pandas as pd\n",
        "# using Pandas read_csv() function imports a CSV file to DataFrame format.\n",
        "movies_df = pd.read_csv('data/ml-latest-small/movies.csv')\n",
        "ratings_df = pd.read_csv('data/ml-latest-small/ratings.csv')"
      ],
      "metadata": {
        "id": "6IvFXYSFuok5"
      },
      "execution_count": null,
      "outputs": []
    },
    {
      "cell_type": "markdown",
      "source": [
        "#**Finding the dimensions of movies and ratings dataframe**\n"
      ],
      "metadata": {
        "id": "maCVmMiu84-7"
      }
    },
    {
      "cell_type": "code",
      "source": [
        "print('The dimensions of movies dataframe are:', movies_df.shape, '\\nThe dimenisions of rating dataframe are:', ratings_df.shape)\n"
      ],
      "metadata": {
        "colab": {
          "base_uri": "https://localhost:8080/"
        },
        "id": "e7VujSAnvui8",
        "outputId": "ff2e7e91-75d8-4a1d-c5a4-2ea3e582ea31"
      },
      "execution_count": null,
      "outputs": [
        {
          "output_type": "stream",
          "name": "stdout",
          "text": [
            "The dimensions of movies dataframe are: (9742, 3) \n",
            "The dimenisions of rating dataframe are: (100836, 4)\n"
          ]
        }
      ]
    },
    {
      "cell_type": "code",
      "source": [
        "#The head() function is used to get the first n rows of movies dataframe.\n",
        "movies_df.head()"
      ],
      "metadata": {
        "colab": {
          "base_uri": "https://localhost:8080/",
          "height": 206
        },
        "id": "Uvwzdm_Cwi7x",
        "outputId": "f03e9e28-262d-44a7-f4b2-0f39605d8425"
      },
      "execution_count": null,
      "outputs": [
        {
          "output_type": "execute_result",
          "data": {
            "text/html": [
              "\n",
              "  <div id=\"df-96819934-cd17-402c-9076-7417cfa769a4\">\n",
              "    <div class=\"colab-df-container\">\n",
              "      <div>\n",
              "<style scoped>\n",
              "    .dataframe tbody tr th:only-of-type {\n",
              "        vertical-align: middle;\n",
              "    }\n",
              "\n",
              "    .dataframe tbody tr th {\n",
              "        vertical-align: top;\n",
              "    }\n",
              "\n",
              "    .dataframe thead th {\n",
              "        text-align: right;\n",
              "    }\n",
              "</style>\n",
              "<table border=\"1\" class=\"dataframe\">\n",
              "  <thead>\n",
              "    <tr style=\"text-align: right;\">\n",
              "      <th></th>\n",
              "      <th>movieId</th>\n",
              "      <th>title</th>\n",
              "      <th>genres</th>\n",
              "    </tr>\n",
              "  </thead>\n",
              "  <tbody>\n",
              "    <tr>\n",
              "      <th>0</th>\n",
              "      <td>1</td>\n",
              "      <td>Toy Story (1995)</td>\n",
              "      <td>Adventure|Animation|Children|Comedy|Fantasy</td>\n",
              "    </tr>\n",
              "    <tr>\n",
              "      <th>1</th>\n",
              "      <td>2</td>\n",
              "      <td>Jumanji (1995)</td>\n",
              "      <td>Adventure|Children|Fantasy</td>\n",
              "    </tr>\n",
              "    <tr>\n",
              "      <th>2</th>\n",
              "      <td>3</td>\n",
              "      <td>Grumpier Old Men (1995)</td>\n",
              "      <td>Comedy|Romance</td>\n",
              "    </tr>\n",
              "    <tr>\n",
              "      <th>3</th>\n",
              "      <td>4</td>\n",
              "      <td>Waiting to Exhale (1995)</td>\n",
              "      <td>Comedy|Drama|Romance</td>\n",
              "    </tr>\n",
              "    <tr>\n",
              "      <th>4</th>\n",
              "      <td>5</td>\n",
              "      <td>Father of the Bride Part II (1995)</td>\n",
              "      <td>Comedy</td>\n",
              "    </tr>\n",
              "  </tbody>\n",
              "</table>\n",
              "</div>\n",
              "      <button class=\"colab-df-convert\" onclick=\"convertToInteractive('df-96819934-cd17-402c-9076-7417cfa769a4')\"\n",
              "              title=\"Convert this dataframe to an interactive table.\"\n",
              "              style=\"display:none;\">\n",
              "        \n",
              "  <svg xmlns=\"http://www.w3.org/2000/svg\" height=\"24px\"viewBox=\"0 0 24 24\"\n",
              "       width=\"24px\">\n",
              "    <path d=\"M0 0h24v24H0V0z\" fill=\"none\"/>\n",
              "    <path d=\"M18.56 5.44l.94 2.06.94-2.06 2.06-.94-2.06-.94-.94-2.06-.94 2.06-2.06.94zm-11 1L8.5 8.5l.94-2.06 2.06-.94-2.06-.94L8.5 2.5l-.94 2.06-2.06.94zm10 10l.94 2.06.94-2.06 2.06-.94-2.06-.94-.94-2.06-.94 2.06-2.06.94z\"/><path d=\"M17.41 7.96l-1.37-1.37c-.4-.4-.92-.59-1.43-.59-.52 0-1.04.2-1.43.59L10.3 9.45l-7.72 7.72c-.78.78-.78 2.05 0 2.83L4 21.41c.39.39.9.59 1.41.59.51 0 1.02-.2 1.41-.59l7.78-7.78 2.81-2.81c.8-.78.8-2.07 0-2.86zM5.41 20L4 18.59l7.72-7.72 1.47 1.35L5.41 20z\"/>\n",
              "  </svg>\n",
              "      </button>\n",
              "      \n",
              "  <style>\n",
              "    .colab-df-container {\n",
              "      display:flex;\n",
              "      flex-wrap:wrap;\n",
              "      gap: 12px;\n",
              "    }\n",
              "\n",
              "    .colab-df-convert {\n",
              "      background-color: #E8F0FE;\n",
              "      border: none;\n",
              "      border-radius: 50%;\n",
              "      cursor: pointer;\n",
              "      display: none;\n",
              "      fill: #1967D2;\n",
              "      height: 32px;\n",
              "      padding: 0 0 0 0;\n",
              "      width: 32px;\n",
              "    }\n",
              "\n",
              "    .colab-df-convert:hover {\n",
              "      background-color: #E2EBFA;\n",
              "      box-shadow: 0px 1px 2px rgba(60, 64, 67, 0.3), 0px 1px 3px 1px rgba(60, 64, 67, 0.15);\n",
              "      fill: #174EA6;\n",
              "    }\n",
              "\n",
              "    [theme=dark] .colab-df-convert {\n",
              "      background-color: #3B4455;\n",
              "      fill: #D2E3FC;\n",
              "    }\n",
              "\n",
              "    [theme=dark] .colab-df-convert:hover {\n",
              "      background-color: #434B5C;\n",
              "      box-shadow: 0px 1px 3px 1px rgba(0, 0, 0, 0.15);\n",
              "      filter: drop-shadow(0px 1px 2px rgba(0, 0, 0, 0.3));\n",
              "      fill: #FFFFFF;\n",
              "    }\n",
              "  </style>\n",
              "\n",
              "      <script>\n",
              "        const buttonEl =\n",
              "          document.querySelector('#df-96819934-cd17-402c-9076-7417cfa769a4 button.colab-df-convert');\n",
              "        buttonEl.style.display =\n",
              "          google.colab.kernel.accessAllowed ? 'block' : 'none';\n",
              "\n",
              "        async function convertToInteractive(key) {\n",
              "          const element = document.querySelector('#df-96819934-cd17-402c-9076-7417cfa769a4');\n",
              "          const dataTable =\n",
              "            await google.colab.kernel.invokeFunction('convertToInteractive',\n",
              "                                                     [key], {});\n",
              "          if (!dataTable) return;\n",
              "\n",
              "          const docLinkHtml = 'Like what you see? Visit the ' +\n",
              "            '<a target=\"_blank\" href=https://colab.research.google.com/notebooks/data_table.ipynb>data table notebook</a>'\n",
              "            + ' to learn more about interactive tables.';\n",
              "          element.innerHTML = '';\n",
              "          dataTable['output_type'] = 'display_data';\n",
              "          await google.colab.output.renderOutput(dataTable, element);\n",
              "          const docLink = document.createElement('div');\n",
              "          docLink.innerHTML = docLinkHtml;\n",
              "          element.appendChild(docLink);\n",
              "        }\n",
              "      </script>\n",
              "    </div>\n",
              "  </div>\n",
              "  "
            ],
            "text/plain": [
              "   movieId  ...                                       genres\n",
              "0        1  ...  Adventure|Animation|Children|Comedy|Fantasy\n",
              "1        2  ...                   Adventure|Children|Fantasy\n",
              "2        3  ...                               Comedy|Romance\n",
              "3        4  ...                         Comedy|Drama|Romance\n",
              "4        5  ...                                       Comedy\n",
              "\n",
              "[5 rows x 3 columns]"
            ]
          },
          "metadata": {},
          "execution_count": 30
        }
      ]
    },
    {
      "cell_type": "code",
      "source": [
        "#The head() function is used to get the first n rows of ratings dataframe.\n",
        "ratings_df.head()"
      ],
      "metadata": {
        "colab": {
          "base_uri": "https://localhost:8080/",
          "height": 206
        },
        "id": "RwsNprgKwqqN",
        "outputId": "d1f739cc-1708-4133-b642-1abf594b2283"
      },
      "execution_count": null,
      "outputs": [
        {
          "output_type": "execute_result",
          "data": {
            "text/html": [
              "\n",
              "  <div id=\"df-f9578212-637f-4739-9c2e-d4671ddfa575\">\n",
              "    <div class=\"colab-df-container\">\n",
              "      <div>\n",
              "<style scoped>\n",
              "    .dataframe tbody tr th:only-of-type {\n",
              "        vertical-align: middle;\n",
              "    }\n",
              "\n",
              "    .dataframe tbody tr th {\n",
              "        vertical-align: top;\n",
              "    }\n",
              "\n",
              "    .dataframe thead th {\n",
              "        text-align: right;\n",
              "    }\n",
              "</style>\n",
              "<table border=\"1\" class=\"dataframe\">\n",
              "  <thead>\n",
              "    <tr style=\"text-align: right;\">\n",
              "      <th></th>\n",
              "      <th>userId</th>\n",
              "      <th>movieId</th>\n",
              "      <th>rating</th>\n",
              "      <th>timestamp</th>\n",
              "    </tr>\n",
              "  </thead>\n",
              "  <tbody>\n",
              "    <tr>\n",
              "      <th>0</th>\n",
              "      <td>1</td>\n",
              "      <td>1</td>\n",
              "      <td>4.0</td>\n",
              "      <td>964982703</td>\n",
              "    </tr>\n",
              "    <tr>\n",
              "      <th>1</th>\n",
              "      <td>1</td>\n",
              "      <td>3</td>\n",
              "      <td>4.0</td>\n",
              "      <td>964981247</td>\n",
              "    </tr>\n",
              "    <tr>\n",
              "      <th>2</th>\n",
              "      <td>1</td>\n",
              "      <td>6</td>\n",
              "      <td>4.0</td>\n",
              "      <td>964982224</td>\n",
              "    </tr>\n",
              "    <tr>\n",
              "      <th>3</th>\n",
              "      <td>1</td>\n",
              "      <td>47</td>\n",
              "      <td>5.0</td>\n",
              "      <td>964983815</td>\n",
              "    </tr>\n",
              "    <tr>\n",
              "      <th>4</th>\n",
              "      <td>1</td>\n",
              "      <td>50</td>\n",
              "      <td>5.0</td>\n",
              "      <td>964982931</td>\n",
              "    </tr>\n",
              "  </tbody>\n",
              "</table>\n",
              "</div>\n",
              "      <button class=\"colab-df-convert\" onclick=\"convertToInteractive('df-f9578212-637f-4739-9c2e-d4671ddfa575')\"\n",
              "              title=\"Convert this dataframe to an interactive table.\"\n",
              "              style=\"display:none;\">\n",
              "        \n",
              "  <svg xmlns=\"http://www.w3.org/2000/svg\" height=\"24px\"viewBox=\"0 0 24 24\"\n",
              "       width=\"24px\">\n",
              "    <path d=\"M0 0h24v24H0V0z\" fill=\"none\"/>\n",
              "    <path d=\"M18.56 5.44l.94 2.06.94-2.06 2.06-.94-2.06-.94-.94-2.06-.94 2.06-2.06.94zm-11 1L8.5 8.5l.94-2.06 2.06-.94-2.06-.94L8.5 2.5l-.94 2.06-2.06.94zm10 10l.94 2.06.94-2.06 2.06-.94-2.06-.94-.94-2.06-.94 2.06-2.06.94z\"/><path d=\"M17.41 7.96l-1.37-1.37c-.4-.4-.92-.59-1.43-.59-.52 0-1.04.2-1.43.59L10.3 9.45l-7.72 7.72c-.78.78-.78 2.05 0 2.83L4 21.41c.39.39.9.59 1.41.59.51 0 1.02-.2 1.41-.59l7.78-7.78 2.81-2.81c.8-.78.8-2.07 0-2.86zM5.41 20L4 18.59l7.72-7.72 1.47 1.35L5.41 20z\"/>\n",
              "  </svg>\n",
              "      </button>\n",
              "      \n",
              "  <style>\n",
              "    .colab-df-container {\n",
              "      display:flex;\n",
              "      flex-wrap:wrap;\n",
              "      gap: 12px;\n",
              "    }\n",
              "\n",
              "    .colab-df-convert {\n",
              "      background-color: #E8F0FE;\n",
              "      border: none;\n",
              "      border-radius: 50%;\n",
              "      cursor: pointer;\n",
              "      display: none;\n",
              "      fill: #1967D2;\n",
              "      height: 32px;\n",
              "      padding: 0 0 0 0;\n",
              "      width: 32px;\n",
              "    }\n",
              "\n",
              "    .colab-df-convert:hover {\n",
              "      background-color: #E2EBFA;\n",
              "      box-shadow: 0px 1px 2px rgba(60, 64, 67, 0.3), 0px 1px 3px 1px rgba(60, 64, 67, 0.15);\n",
              "      fill: #174EA6;\n",
              "    }\n",
              "\n",
              "    [theme=dark] .colab-df-convert {\n",
              "      background-color: #3B4455;\n",
              "      fill: #D2E3FC;\n",
              "    }\n",
              "\n",
              "    [theme=dark] .colab-df-convert:hover {\n",
              "      background-color: #434B5C;\n",
              "      box-shadow: 0px 1px 3px 1px rgba(0, 0, 0, 0.15);\n",
              "      filter: drop-shadow(0px 1px 2px rgba(0, 0, 0, 0.3));\n",
              "      fill: #FFFFFF;\n",
              "    }\n",
              "  </style>\n",
              "\n",
              "      <script>\n",
              "        const buttonEl =\n",
              "          document.querySelector('#df-f9578212-637f-4739-9c2e-d4671ddfa575 button.colab-df-convert');\n",
              "        buttonEl.style.display =\n",
              "          google.colab.kernel.accessAllowed ? 'block' : 'none';\n",
              "\n",
              "        async function convertToInteractive(key) {\n",
              "          const element = document.querySelector('#df-f9578212-637f-4739-9c2e-d4671ddfa575');\n",
              "          const dataTable =\n",
              "            await google.colab.kernel.invokeFunction('convertToInteractive',\n",
              "                                                     [key], {});\n",
              "          if (!dataTable) return;\n",
              "\n",
              "          const docLinkHtml = 'Like what you see? Visit the ' +\n",
              "            '<a target=\"_blank\" href=https://colab.research.google.com/notebooks/data_table.ipynb>data table notebook</a>'\n",
              "            + ' to learn more about interactive tables.';\n",
              "          element.innerHTML = '';\n",
              "          dataTable['output_type'] = 'display_data';\n",
              "          await google.colab.output.renderOutput(dataTable, element);\n",
              "          const docLink = document.createElement('div');\n",
              "          docLink.innerHTML = docLinkHtml;\n",
              "          element.appendChild(docLink);\n",
              "        }\n",
              "      </script>\n",
              "    </div>\n",
              "  </div>\n",
              "  "
            ],
            "text/plain": [
              "   userId  movieId  rating  timestamp\n",
              "0       1        1     4.0  964982703\n",
              "1       1        3     4.0  964981247\n",
              "2       1        6     4.0  964982224\n",
              "3       1       47     5.0  964983815\n",
              "4       1       50     5.0  964982931"
            ]
          },
          "metadata": {},
          "execution_count": 31
        }
      ]
    },
    {
      "cell_type": "code",
      "source": [
        "#Pandas set_index() is a method to set a List, Series or Data frame as index of a Data Frame.\n",
        "#to_dict() method is used to convert a dataframe into a dictionary of series \n",
        "movie_names = movies_df.set_index('movieId')['title'].to_dict()\n",
        "#len() It returns the length of an object.\n",
        "#unique() function is used to find the unique elements of an array\n",
        "n_users = len(ratings_df.userId.unique())\n",
        "n_items = len(ratings_df.movieId.unique())\n",
        "print(\"Number of unique users:\", n_users)\n",
        "print(\"Number of unique movies:\", n_items)\n",
        "print(\"The full rating matrix will have:\", n_users*n_items, 'elements.')\n",
        "print(\"----------\")\n",
        "print(\"Number of ratings:\", len(ratings_df))\n",
        "print(\"Therefore: \", len(ratings_df) / (n_users* n_items) * 100,'% of the matrix is filled.')\n",
        "print(\"We have an incredibly sparse matrix to work with here\")\n",
        "print(\"And... as you can imagine, as the number of users and products grow, the number of elements will increase by n*2\")\n",
        "print(\"You are going to need a lot of memory to work with global scale... storing a full matrix in memory would be a challenge\")\n",
        "print(\"One advantage here is that matrix factorization can realize the rating matrix implicitly, thus we don't need all the data\")\n",
        "\n",
        "\n",
        "\n",
        "\n"
      ],
      "metadata": {
        "colab": {
          "base_uri": "https://localhost:8080/"
        },
        "id": "buN9CDjrw1xS",
        "outputId": "9f9d630a-aac7-4fdc-c323-1d3e2d1bde90"
      },
      "execution_count": null,
      "outputs": [
        {
          "output_type": "stream",
          "name": "stdout",
          "text": [
            "Number of unique users: 610\n",
            "Number of unique movies: 9724\n",
            "The full rating matrix will have: 5931640 elements.\n",
            "----------\n",
            "Number of ratings: 100836\n",
            "Therefore:  1.6999683055613624 % of the matrix is filled.\n",
            "We have an incredibly sparse matrix to work with here\n",
            "And... as you can imagine, as the number of users and products grow, the number of elements will increase by n*2\n",
            "You are going to need a lot of memory to work with global scale... storing a full matrix in memory would be a challenge\n",
            "One advantage here is that matrix factorization can realize the rating matrix implicitly, thus we don't need all the data\n"
          ]
        }
      ]
    },
    {
      "cell_type": "code",
      "source": [
        "#Torch is an open-source machine learning library, a scientific computing framework, and a script language \n",
        "import torch\n",
        "#NumPy is a Python library used for working with arrays. \n",
        "#Array is a collection of common type of data structures having elements with same data type.\n",
        "import numpy as np\n",
        "#The from keyword is used to import only a specified section from a module.\n",
        "#Autograd can automatically differentiate native Python and Numpy code.\n",
        "from torch.autograd import variable\n",
        "#tqdm is a library in Python which is used for creating Progress Meters or Progress Bars.\n",
        "from tqdm import tqdm_notebook as tqdm\n",
        "\n",
        "#torch.nn.Module. It is a base class used to develop all neural network models.\n",
        "class MatrixFactorization(torch.nn.Module):\n",
        "\n",
        "#__init__ method lets the class initialize the object's attributes\n",
        "  def __init__(self, n_users, n_items, n_factors=20):\n",
        "#The super() function is used to give access to methods and properties of a parent or sibling class\n",
        "\n",
        "      super().__init__()\n",
        "      #create user embeddings\n",
        "      #The self parameter is a reference to the current instance of the class, and is used to access variables that belongs to the class.\n",
        "      self.user_factors = torch.nn.Embedding(n_users, n_factors)\n",
        "      #torch. nn. Embedding just creates a Lookup Table, to get the word embedding given a word index. \n",
        "      #create item embeddings\n",
        "      self.item_factors = torch.nn.Embedding(n_items, n_factors)\n",
        "      # weight is used to weigh the possibility for each value\n",
        "      #Uniform distributions are probability distributions with equally likely outcomes.\n",
        "      self.user_factors.weight.data.uniform_(0, 0.05)\n",
        "      self.item_factors.weight.data.uniform_(0, 0.05)\n",
        "\n",
        "#forward() method is used to move the turtle forward by the value of the argument that it takes.\n",
        "  def forward(self, data):\n",
        "    #matrix multiplication\n",
        "    users, items =data[:,0], data[:,1]\n",
        "    return (self.user_factors(users)*self.item_factors(items)).sum(1)\n",
        "\n",
        "# predict() function enables us to predict the labels of the data values on the basis of the trained model\n",
        "  def predict(self, user, item):\n",
        "    return self.forward(user, item)\n"
      ],
      "metadata": {
        "id": "33rgbzvv6mZc"
      },
      "execution_count": null,
      "outputs": []
    },
    {
      "cell_type": "code",
      "source": [
        "\n",
        "#creating the downloader necessary for PyTorch\n",
        "#utils classes which make common patterns shorter and easier\n",
        "from torch.utils.data.dataset import Dataset\n",
        "from torch.utils.data import DataLoader\n",
        "\n",
        "class Loader(Dataset):\n",
        "    def __init__(self):\n",
        "        self.ratings = ratings_df.copy()\n",
        "\n",
        "        users = ratings_df.userId.unique()\n",
        "        movies = ratings_df.movieId.unique()\n",
        "\n",
        "        #enumerate() allows us to iterate through a sequence but it keeps track of both the index and the element\n",
        "        #\"idx\" is usually short for index.\n",
        "        self.userid2idx = {o:i for i,o in enumerate(users)}\n",
        "        self.movieid2idx = {o:i for i,o in enumerate(movies)}\n",
        "\n",
        "        self.idx2userid = {i:o for o,i in self.userid2idx.items()}\n",
        "        self.idx2movieid = {i:o for o,i in self.movieid2idx.items()}\n",
        "\n",
        "        #We use lambda functions when we require a nameless function for a short period of time.\n",
        "        self.ratings.movieId = ratings_df.movieId.apply(lambda x: self.movieid2idx[x])\n",
        "        self.ratings.userId = ratings_df.userId.apply(lambda x: self.userid2idx[x])\n",
        "\n",
        "        #The drop() method removes the specified row or column. \n",
        "        self.x = self.ratings.drop(['rating', 'timestamp'] , axis=1).values\n",
        "        self.y = self.ratings['rating'].values\n",
        "        #Using torch. tensor() is the most straightforward way to create a tensor if you already have data in a Python tuple or list.\n",
        "        self.x, self.y = torch.tensor(self.x), torch.tensor(self.y)\n",
        "\n",
        "    #The __getitem__ magic method is usually used for list indexing, dictionary lookup, or accessing ranges of values.\n",
        "    def __getitem__(self, index):\n",
        "        return (self.x[index], self.y[index])\n",
        "    #The__len__ It returns the length of an object.\n",
        "    def __len__(self):\n",
        "        return len(self.ratings)\n",
        "\n",
        "\n",
        "\n",
        "\n"
      ],
      "metadata": {
        "id": "nKZK11iAAFCg"
      },
      "execution_count": null,
      "outputs": []
    },
    {
      "cell_type": "code",
      "source": [
        "#An epoch is a term used in machine learning and indicates the number of passes of the entire training dataset the machine learning algorithm has completed. \n",
        "num_epochs = 128\n",
        "#CUDA enables dramatic increases in computing performance by harnessing the power of the graphics processing unit (GPU)\n",
        "#torch.cuda is used to set up and run CUDA operations.\n",
        "cuda = torch.cuda.is_available()\n",
        "\n",
        "print(\"Is running on GPU:\", cuda)\n",
        "\n",
        "model = MatrixFactorization(n_users, n_items, n_factors=8)\n",
        "print(model)\n",
        "for name, param in model.named_parameters():\n",
        "    #requires_grad should be the main way you control which parts of the model are part of the gradient computation\n",
        "    if param.requires_grad:\n",
        "      print(name, param.data)\n",
        "\n",
        "if cuda:\n",
        "   model = model.cuda()\n",
        "#torch.nn.MSELoss creates a criterion that measures the mean squared error (squared L2 norm) between each element in the input x and target y.\n",
        "loss_fn = torch.nn.MSELoss()\n",
        "# Adam optimizer is a replacement optimization algorithm for stochastic gradient descent for training deep learning models \n",
        "optimizer = torch.optim.Adam(model.parameters(), lr=1e-3)\n",
        "\n",
        "train_set = Loader()\n",
        "train_loader = DataLoader(train_set, 128, shuffle=True)\n"
      ],
      "metadata": {
        "colab": {
          "base_uri": "https://localhost:8080/"
        },
        "id": "pBCskdryQdtC",
        "outputId": "8c8e5d7a-e306-4039-e4b0-48bf22acebf2"
      },
      "execution_count": null,
      "outputs": [
        {
          "output_type": "stream",
          "name": "stdout",
          "text": [
            "Is running on GPU: True\n",
            "MatrixFactorization(\n",
            "  (user_factors): Embedding(610, 8)\n",
            "  (item_factors): Embedding(9724, 8)\n",
            ")\n",
            "user_factors.weight tensor([[0.0497, 0.0034, 0.0020,  ..., 0.0179, 0.0268, 0.0247],\n",
            "        [0.0018, 0.0382, 0.0072,  ..., 0.0305, 0.0304, 0.0485],\n",
            "        [0.0078, 0.0196, 0.0479,  ..., 0.0058, 0.0112, 0.0350],\n",
            "        ...,\n",
            "        [0.0071, 0.0162, 0.0300,  ..., 0.0037, 0.0490, 0.0383],\n",
            "        [0.0027, 0.0144, 0.0270,  ..., 0.0445, 0.0477, 0.0500],\n",
            "        [0.0394, 0.0044, 0.0203,  ..., 0.0328, 0.0220, 0.0064]])\n",
            "item_factors.weight tensor([[0.0414, 0.0173, 0.0059,  ..., 0.0005, 0.0054, 0.0012],\n",
            "        [0.0452, 0.0004, 0.0333,  ..., 0.0070, 0.0445, 0.0114],\n",
            "        [0.0150, 0.0455, 0.0176,  ..., 0.0199, 0.0299, 0.0054],\n",
            "        ...,\n",
            "        [0.0261, 0.0282, 0.0040,  ..., 0.0246, 0.0195, 0.0387],\n",
            "        [0.0262, 0.0456, 0.0088,  ..., 0.0223, 0.0366, 0.0282],\n",
            "        [0.0100, 0.0454, 0.0033,  ..., 0.0056, 0.0302, 0.0411]])\n"
          ]
        }
      ]
    },
    {
      "cell_type": "code",
      "source": [
        "#tqdm is a library in Python which is used for creating Progress Meters or Progress Bars\n",
        "for it in tqdm(range(num_epochs)):\n",
        "    losses = []\n",
        "    for x, y in train_loader:\n",
        "         if cuda:\n",
        "            x, y = x.cuda(), y.cuda()\n",
        "            #zero_grad() restarts looping without losses from the last step if you use the gradient method for decreasing the error (or losses)\n",
        "            optimizer.zero_grad()\n",
        "            outputs = model(x)\n",
        "            #squeeze() function is used when we want to remove single-dimensional entries from the shape of an array\n",
        "            loss = loss_fn(outputs.squeeze(), y.type(torch.float32)) \n",
        "            losses.append(loss.item())\n",
        "            loss.backward()\n",
        "            optimizer.step()\n",
        "print(\"iter #{}\".format(it), \"Loss:\", sum(losses) / len(losses))"
      ],
      "metadata": {
        "colab": {
          "base_uri": "https://localhost:8080/",
          "height": 138,
          "referenced_widgets": [
            "a991dbea71fa477295395da3c21534f5",
            "640730df0a744be5afe2c0eab87a27c6",
            "25e5dace329d4158b977419b9f49585d",
            "903ce06d6b9b44c088195d5ff5b46a72",
            "df86b104b5c84fa6b15431ba9a01cd62",
            "c34dfb6b74cc4ddf9fd5f3fcd7b5cc98",
            "16b21f0b399f4d39bfe553a91a6ccd2e",
            "09138f381ff84cb8b79fa878a9225387",
            "c2861108cbc04dbf8499d76ee44c3d5e",
            "7fb04f78cab54160a6ff57375d9792de",
            "cbf114fc2f8f4210b7aa78893f8c41f3"
          ]
        },
        "id": "xJqnJ6KTVP6Z",
        "outputId": "1084ab4e-5b15-4b3e-ed25-5f8a9cbfb512"
      },
      "execution_count": null,
      "outputs": [
        {
          "output_type": "stream",
          "name": "stderr",
          "text": [
            "/usr/local/lib/python3.7/dist-packages/ipykernel_launcher.py:1: TqdmDeprecationWarning: This function will be removed in tqdm==5.0.0\n",
            "Please use `tqdm.notebook.tqdm` instead of `tqdm.tqdm_notebook`\n",
            "  \"\"\"Entry point for launching an IPython kernel.\n"
          ]
        },
        {
          "output_type": "display_data",
          "data": {
            "application/vnd.jupyter.widget-view+json": {
              "model_id": "a991dbea71fa477295395da3c21534f5",
              "version_minor": 0,
              "version_major": 2
            },
            "text/plain": [
              "  0%|          | 0/128 [00:00<?, ?it/s]"
            ]
          },
          "metadata": {}
        },
        {
          "output_type": "stream",
          "name": "stdout",
          "text": [
            "iter #127 Loss: 0.32500748219072517\n"
          ]
        }
      ]
    },
    {
      "cell_type": "code",
      "source": [
        "#by training the model, we will have tuned latent factors for movies and users\n",
        "c = 0\n",
        "uw = 0\n",
        "iw = 0\n",
        "for name, param in model.named_parameters():\n",
        "  if param.requires_grad:\n",
        "    print(name, param.data)\n",
        "    if c == 0:\n",
        "      uw = param.data\n",
        "      c +=1\n",
        "    else:\n",
        "      iw = param.data\n",
        "\n",
        "\n",
        "\n"
      ],
      "metadata": {
        "colab": {
          "base_uri": "https://localhost:8080/"
        },
        "id": "BChwTho-Xl0g",
        "outputId": "18df1dd6-252f-4ec4-c18f-acfb33730d45"
      },
      "execution_count": null,
      "outputs": [
        {
          "output_type": "stream",
          "name": "stdout",
          "text": [
            "user_factors.weight tensor([[ 1.3130,  1.4362,  1.3285,  ...,  1.2671,  1.0224,  1.3640],\n",
            "        [ 0.3749,  1.3657,  1.9535,  ...,  1.1544,  0.5392,  0.7386],\n",
            "        [-2.4844,  0.7659,  1.7060,  ...,  1.6599, -0.2572, -0.7986],\n",
            "        ...,\n",
            "        [ 0.3601, -0.0222,  1.7244,  ..., -0.4462,  1.7645,  2.2586],\n",
            "        [ 1.0274,  1.1209,  1.1705,  ...,  0.6577,  1.0913,  1.2333],\n",
            "        [ 0.9980,  1.5016,  0.4468,  ...,  1.2551,  1.6044,  0.2564]],\n",
            "       device='cuda:0')\n",
            "item_factors.weight tensor([[0.8455, 0.4501, 0.2948,  ..., 0.6289, 0.2692, 0.2466],\n",
            "        [0.5812, 0.7746, 0.1109,  ..., 0.4609, 0.7211, 0.2088],\n",
            "        [0.5419, 0.4999, 0.2473,  ..., 0.3009, 0.5513, 0.8698],\n",
            "        ...,\n",
            "        [0.3313, 0.3341, 0.3075,  ..., 0.3292, 0.3257, 0.3349],\n",
            "        [0.3793, 0.3996, 0.3612,  ..., 0.3745, 0.3903, 0.3713],\n",
            "        [0.3855, 0.4214, 0.3812,  ..., 0.3793, 0.4064, 0.3867]],\n",
            "       device='cuda:0')\n"
          ]
        }
      ]
    },
    {
      "cell_type": "code",
      "source": [
        "trained_movie_embeddings = model.item_factors.weight.data.cpu().numpy()"
      ],
      "metadata": {
        "id": "7swcWcfIZR_n"
      },
      "execution_count": null,
      "outputs": []
    },
    {
      "cell_type": "code",
      "source": [
        "trained_movie_embeddings"
      ],
      "metadata": {
        "colab": {
          "base_uri": "https://localhost:8080/"
        },
        "id": "Ucwul3BUZzpf",
        "outputId": "ed8b7c94-65c0-465a-e3f3-ca7d5a75496d"
      },
      "execution_count": null,
      "outputs": [
        {
          "output_type": "execute_result",
          "data": {
            "text/plain": [
              "array([[0.8454738 , 0.45011565, 0.29475915, ..., 0.6289333 , 0.26922446,\n",
              "        0.24660386],\n",
              "       [0.58122337, 0.7746151 , 0.11090755, ..., 0.4608917 , 0.7210832 ,\n",
              "        0.20879894],\n",
              "       [0.54190516, 0.49993134, 0.24728596, ..., 0.3009057 , 0.5513073 ,\n",
              "        0.8698494 ],\n",
              "       ...,\n",
              "       [0.33128121, 0.33408463, 0.30745497, ..., 0.32920817, 0.32574692,\n",
              "        0.33493987],\n",
              "       [0.3792503 , 0.39958686, 0.3612351 , ..., 0.37452516, 0.3902571 ,\n",
              "        0.37125525],\n",
              "       [0.3855182 , 0.42139256, 0.38123605, ..., 0.3793232 , 0.40642524,\n",
              "        0.38674217]], dtype=float32)"
            ]
          },
          "metadata": {},
          "execution_count": 53
        }
      ]
    },
    {
      "cell_type": "code",
      "source": [
        "#Scikit-learn is probably the most useful library for machine learning in Python.\n",
        "#K-means clustering is a type of unsupervised learning, which is used when you have unlabeled data (i.e., data without defined categories or groups). \n",
        "'''Clustering or cluster analysis is an unsupervised learning problem. It is often used as a data analysis technique for discovering interesting patterns in data, such as groups of customers based on their behavior'''\n",
        "from sklearn.cluster import KMeans\n",
        "kmeans = KMeans(n_clusters=10, random_state=0).fit(trained_movie_embeddings)"
      ],
      "metadata": {
        "id": "ACUXmB9KaXKk"
      },
      "execution_count": null,
      "outputs": []
    },
    {
      "cell_type": "code",
      "source": [
        "for cluster in range(10):\n",
        "  #permits you to try and do variable substitutions and data formatting.\n",
        "  print(\"Cluster #{}\".format(cluster))\n",
        "  movs = []\n",
        "  #where() function to select elements from a numpy array, based on a condition\n",
        "  for movidx in np.where(kmeans.labels_ == cluster)[0]:\n",
        "    movid = train_set.idx2movieid[movidx]\n",
        "    rat_count = ratings_df.loc[ratings_df['movieId']==movid].count()[0]\n",
        "    movs.append((movie_names[movid], rat_count))\n",
        "  for mov in sorted(movs, key=lambda tup: tup[1], reverse=True)[:10]:\n",
        "    print(\"\\t\", mov[0])\n"
      ],
      "metadata": {
        "colab": {
          "base_uri": "https://localhost:8080/"
        },
        "id": "nbfAZMrwcdEE",
        "outputId": "12e2b588-574a-4072-baa9-7c030eb2dc32"
      },
      "execution_count": null,
      "outputs": [
        {
          "output_type": "stream",
          "name": "stdout",
          "text": [
            "Cluster #0\n",
            "\t Batman & Robin (1997)\n",
            "\t Free Willy (1993)\n",
            "\t Godzilla (1998)\n",
            "\t Super Mario Bros. (1993)\n",
            "\t Fantastic Four: Rise of the Silver Surfer (2007)\n",
            "\t Honey, I Blew Up the Kid (1992)\n",
            "\t Battlefield Earth (2000)\n",
            "\t Superman IV: The Quest for Peace (1987)\n",
            "\t Next Karate Kid, The (1994)\n",
            "\t Karate Kid, Part III, The (1989)\n",
            "Cluster #1\n",
            "\t Forrest Gump (1994)\n",
            "\t Shawshank Redemption, The (1994)\n",
            "\t Silence of the Lambs, The (1991)\n",
            "\t Matrix, The (1999)\n",
            "\t Braveheart (1995)\n",
            "\t Fight Club (1999)\n",
            "\t Star Wars: Episode V - The Empire Strikes Back (1980)\n",
            "\t Raiders of the Lost Ark (Indiana Jones and the Raiders of the Lost Ark) (1981)\n",
            "\t Star Wars: Episode VI - Return of the Jedi (1983)\n",
            "\t Saving Private Ryan (1998)\n",
            "Cluster #2\n",
            "\t Ace Ventura: Pet Detective (1994)\n",
            "\t Waterworld (1995)\n",
            "\t Armageddon (1998)\n",
            "\t Ace Ventura: When Nature Calls (1995)\n",
            "\t Mummy, The (1999)\n",
            "\t Broken Arrow (1996)\n",
            "\t Santa Clause, The (1994)\n",
            "\t Demolition Man (1993)\n",
            "\t Starship Troopers (1997)\n",
            "\t Face/Off (1997)\n",
            "Cluster #3\n",
            "\t Jurassic Park (1993)\n",
            "\t Batman (1989)\n",
            "\t Sixth Sense, The (1999)\n",
            "\t True Lies (1994)\n",
            "\t Lion King, The (1994)\n",
            "\t Speed (1994)\n",
            "\t Men in Black (a.k.a. MIB) (1997)\n",
            "\t Dances with Wolves (1990)\n",
            "\t Mask, The (1994)\n",
            "\t Pirates of the Caribbean: The Curse of the Black Pearl (2003)\n",
            "Cluster #4\n",
            "\t Kill Bill: Vol. 1 (2003)\n",
            "\t Austin Powers: The Spy Who Shagged Me (1999)\n",
            "\t Kill Bill: Vol. 2 (2004)\n",
            "\t Interview with the Vampire: The Vampire Chronicles (1994)\n",
            "\t Office Space (1999)\n",
            "\t Natural Born Killers (1994)\n",
            "\t Get Shorty (1995)\n",
            "\t Psycho (1960)\n",
            "\t Casino (1995)\n",
            "\t Dogma (1999)\n",
            "Cluster #5\n",
            "\t Pulp Fiction (1994)\n",
            "\t Terminator 2: Judgment Day (1991)\n",
            "\t Schindler's List (1993)\n",
            "\t Usual Suspects, The (1995)\n",
            "\t American Beauty (1999)\n",
            "\t Seven (a.k.a. Se7en) (1995)\n",
            "\t Lord of the Rings: The Fellowship of the Ring, The (2001)\n",
            "\t Godfather, The (1972)\n",
            "\t Lord of the Rings: The Two Towers, The (2002)\n",
            "\t Lord of the Rings: The Return of the King, The (2003)\n",
            "Cluster #6\n",
            "\t Independence Day (a.k.a. ID4) (1996)\n",
            "\t Stargate (1994)\n",
            "\t Star Wars: Episode I - The Phantom Menace (1999)\n",
            "\t Dumb & Dumber (Dumb and Dumber) (1994)\n",
            "\t X-Men (2000)\n",
            "\t Twister (1996)\n",
            "\t Rock, The (1996)\n",
            "\t Crimson Tide (1995)\n",
            "\t American Pie (1999)\n",
            "\t Matrix Reloaded, The (2003)\n",
            "Cluster #7\n",
            "\t Batman Forever (1995)\n",
            "\t Net, The (1995)\n",
            "\t Clear and Present Danger (1994)\n",
            "\t Cliffhanger (1993)\n",
            "\t Firm, The (1993)\n",
            "\t Shrek 2 (2004)\n",
            "\t Meet the Parents (2000)\n",
            "\t Liar Liar (1997)\n",
            "\t Bruce Almighty (2003)\n",
            "\t Enemy of the State (1998)\n",
            "Cluster #8\n",
            "\t Full Metal Jacket (1987)\n",
            "\t Avatar (2009)\n",
            "\t Back to the Future Part III (1990)\n",
            "\t Back to the Future Part II (1989)\n",
            "\t Blues Brothers, The (1980)\n",
            "\t Nutty Professor, The (1996)\n",
            "\t Mr. Holland's Opus (1995)\n",
            "\t Judge Dredd (1995)\n",
            "\t Animal House (1978)\n",
            "\t Pinocchio (1940)\n",
            "Cluster #9\n",
            "\t Star Wars: Episode IV - A New Hope (1977)\n",
            "\t Toy Story (1995)\n",
            "\t Apollo 13 (1995)\n",
            "\t Fugitive, The (1993)\n",
            "\t Aladdin (1992)\n",
            "\t Back to the Future (1985)\n",
            "\t Shrek (2001)\n",
            "\t Mission: Impossible (1996)\n",
            "\t Beauty and the Beast (1991)\n",
            "\t Mrs. Doubtfire (1993)\n"
          ]
        }
      ]
    }
  ]
}